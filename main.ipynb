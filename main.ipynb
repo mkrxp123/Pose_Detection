{
 "cells": [
  {
   "cell_type": "code",
   "execution_count": 40,
   "metadata": {},
   "outputs": [],
   "source": [
    "import cv2\n",
    "import numpy as np\n",
    "from loaddata import loaddata\n",
    "from sklearn import svm\n",
    "from sklearn.metrics import classification_report\n",
    "import tensorflow as tf\n",
    "from tensorflow.data import Dataset\n",
    "from tensorflow.keras import losses, Sequential, layers"
   ]
  },
  {
   "cell_type": "code",
   "execution_count": 34,
   "metadata": {},
   "outputs": [],
   "source": [
    "x_train, x_test, y_train, y_test = loaddata('1', '2', '3', train_size=0.8)"
   ]
  },
  {
   "cell_type": "markdown",
   "metadata": {},
   "source": [
    "---\n",
    "### HOG"
   ]
  },
  {
   "cell_type": "code",
   "execution_count": 35,
   "metadata": {},
   "outputs": [],
   "source": [
    "winSize = (160, 160) \n",
    "blockSize = (80, 80)\n",
    "blockStride = (40, 40)\n",
    "cellSize = (80, 80)\n",
    "Bin = 9 \n",
    "hog = cv2.HOGDescriptor(winSize, blockSize, blockStride, cellSize, Bin)\n",
    "HOG = lambda img: hog.compute(img).flatten()\n",
    "\n",
    "train_HOG = np.array([HOG(img) for img in x_train])\n",
    "\n",
    "SVM = svm.SVC(kernel = 'linear')\n",
    "SVM.fit(train_HOG, y_train)\n",
    "del train_HOG"
   ]
  },
  {
   "cell_type": "code",
   "execution_count": 36,
   "metadata": {},
   "outputs": [],
   "source": [
    "test_HOG = np.array([HOG(img) for img in x_test])\n",
    "y_predict = SVM.predict(test_HOG)"
   ]
  },
  {
   "cell_type": "code",
   "execution_count": 37,
   "metadata": {},
   "outputs": [
    {
     "name": "stdout",
     "output_type": "stream",
     "text": [
      "              precision    recall  f1-score   support\n",
      "\n",
      "           0       0.89      0.94      0.92       140\n",
      "           1       0.97      0.95      0.96        59\n",
      "           2       0.91      0.86      0.89        37\n",
      "           3       0.97      0.94      0.96        34\n",
      "           4       0.95      0.85      0.90        41\n",
      "\n",
      "    accuracy                           0.92       311\n",
      "   macro avg       0.94      0.91      0.92       311\n",
      "weighted avg       0.92      0.92      0.92       311\n",
      "\n"
     ]
    }
   ],
   "source": [
    "print(classification_report(y_test, y_predict))"
   ]
  },
  {
   "cell_type": "markdown",
   "metadata": {},
   "source": [
    "---\n",
    "### CNN"
   ]
  },
  {
   "cell_type": "code",
   "execution_count": 44,
   "metadata": {},
   "outputs": [],
   "source": [
    "def convModel():\n",
    "    model = Sequential([\n",
    "        layers.Conv2D(64, (3, 3), activation = 'relu'),\n",
    "        layers.MaxPooling2D((2, 2)),\n",
    "        layers.Conv2D(32, (3, 3), activation = 'relu'),\n",
    "        layers.MaxPooling2D((2, 2)),\n",
    "        layers.Conv2D(32, (3, 3), activation = 'relu'),\n",
    "        layers.Flatten(),\n",
    "        layers.Dense(10000, activation = 'relu'),\n",
    "        layers.Dropout(0.2),\n",
    "        layers.Dense(5, activation = 'softmax', name = \"final\")\n",
    "    ])\n",
    "    model.compile(optimizer = 'adam', loss = losses.SparseCategoricalCrossentropy(), metrics = ['accuracy'])\n",
    "    return model\n",
    "\n",
    "model = convModel()"
   ]
  }
 ],
 "metadata": {
  "kernelspec": {
   "display_name": "Python 3.8.8 ('base')",
   "language": "python",
   "name": "python3"
  },
  "language_info": {
   "codemirror_mode": {
    "name": "ipython",
    "version": 3
   },
   "file_extension": ".py",
   "mimetype": "text/x-python",
   "name": "python",
   "nbconvert_exporter": "python",
   "pygments_lexer": "ipython3",
   "version": "3.8.8"
  },
  "orig_nbformat": 4,
  "vscode": {
   "interpreter": {
    "hash": "3b6c1224657c578b9d3e2b49ca831d7f85bea0417468944a724420177cb04cf0"
   }
  }
 },
 "nbformat": 4,
 "nbformat_minor": 2
}
