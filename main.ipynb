{
 "cells": [
  {
   "cell_type": "code",
   "execution_count": 1,
   "metadata": {},
   "outputs": [],
   "source": [
    "import cv2\n",
    "import numpy as np\n",
    "from loaddata import loaddata\n",
    "from sklearn import svm\n",
    "from sklearn.metrics import classification_report\n",
    "import tensorflow as tf\n",
    "from tensorflow.data import Dataset\n",
    "from tensorflow.keras import losses, Sequential, layers"
   ]
  },
  {
   "cell_type": "code",
   "execution_count": 2,
   "metadata": {},
   "outputs": [],
   "source": [
    "x_train, x_test, y_train, y_test = loaddata('1', '2', '3', train_size=0.8)"
   ]
  },
  {
   "cell_type": "markdown",
   "metadata": {},
   "source": [
    "---\n",
    "### HOG"
   ]
  },
  {
   "cell_type": "code",
   "execution_count": 3,
   "metadata": {},
   "outputs": [],
   "source": [
    "winSize = (160, 160) \n",
    "blockSize = (80, 80)\n",
    "blockStride = (40, 40)\n",
    "cellSize = (80, 80)\n",
    "Bin = 9 \n",
    "hog = cv2.HOGDescriptor(winSize, blockSize, blockStride, cellSize, Bin)\n",
    "HOG = lambda img: hog.compute(img).flatten()\n",
    "\n",
    "train_HOG = np.array([HOG(img) for img in x_train])\n",
    "\n",
    "SVM = svm.SVC(kernel = 'linear')\n",
    "SVM.fit(train_HOG, y_train)\n",
    "del train_HOG"
   ]
  },
  {
   "cell_type": "code",
   "execution_count": 4,
   "metadata": {},
   "outputs": [
    {
     "name": "stdout",
     "output_type": "stream",
     "text": [
      "              precision    recall  f1-score   support\n",
      "\n",
      "           0       0.89      0.94      0.92       140\n",
      "           1       0.97      0.95      0.96        59\n",
      "           2       0.91      0.86      0.89        37\n",
      "           3       0.97      0.94      0.96        34\n",
      "           4       0.95      0.85      0.90        41\n",
      "\n",
      "    accuracy                           0.92       311\n",
      "   macro avg       0.94      0.91      0.92       311\n",
      "weighted avg       0.92      0.92      0.92       311\n",
      "\n"
     ]
    }
   ],
   "source": [
    "test_HOG = np.array([HOG(img) for img in x_test])\n",
    "y_predict = SVM.predict(test_HOG)\n",
    "print(classification_report(y_test, y_predict))"
   ]
  },
  {
   "cell_type": "code",
   "execution_count": 5,
   "metadata": {},
   "outputs": [],
   "source": [
    "method_SVM = lambda img: SVM.predict([HOG(img)])[0]"
   ]
  },
  {
   "cell_type": "markdown",
   "metadata": {},
   "source": [
    "---\n",
    "### CNN"
   ]
  },
  {
   "cell_type": "code",
   "execution_count": 44,
   "metadata": {},
   "outputs": [],
   "source": [
    "def convModel():\n",
    "    model = Sequential([\n",
    "        layers.Conv2D(64, (3, 3), activation = 'relu'),\n",
    "        layers.MaxPooling2D((2, 2)),\n",
    "        layers.Conv2D(32, (3, 3), activation = 'relu'),\n",
    "        layers.MaxPooling2D((2, 2)),\n",
    "        layers.Conv2D(32, (3, 3), activation = 'relu'),\n",
    "        layers.Flatten(),\n",
    "        layers.Dense(10000, activation = 'relu'),\n",
    "        layers.Dropout(0.2),\n",
    "        layers.Dense(5, activation = 'softmax', name = \"final\")\n",
    "    ])\n",
    "    model.compile(optimizer = 'adam', loss = losses.SparseCategoricalCrossentropy(), metrics = ['accuracy'])\n",
    "    return model\n",
    "\n",
    "model = convModel()"
   ]
  },
  {
   "cell_type": "markdown",
   "metadata": {},
   "source": [
    "---\n",
    "### online predict"
   ]
  },
  {
   "cell_type": "code",
   "execution_count": 17,
   "metadata": {},
   "outputs": [],
   "source": [
    "def onlinePredict(method):\n",
    "    # empty: 0, up: 1, down: 2, left: 3, right: 4\n",
    "    action = {0: 'empty', 1: 'up', 2: 'down', 3: 'right', 4: 'left'}\n",
    "    cap = cv2.VideoCapture(0)\n",
    "    if not cap.isOpened():\n",
    "        print(\"Cannot open camera\")\n",
    "        exit()\n",
    "        \n",
    "    while(True):\n",
    "        # 擷取影像\n",
    "        ret, frame = cap.read()\n",
    "        if not ret:\n",
    "            print(\"Can't receive frame (stream end?). Exiting ...\")\n",
    "            break\n",
    "        \n",
    "        img = frame[:, ::-1]\n",
    "        # 顯示圖片並預測\n",
    "        cv2.imshow('live', img)\n",
    "        predict = action[method(frame)]\n",
    "        print(predict)\n",
    "        \n",
    "        # 按下 q 鍵離開迴圈\n",
    "        if cv2.waitKey(1) == ord('q'):\n",
    "            break\n",
    "    cap.release()\n",
    "    cv2.destroyAllWindows()\n",
    "    return"
   ]
  },
  {
   "cell_type": "code",
   "execution_count": null,
   "metadata": {},
   "outputs": [],
   "source": [
    "onlinePredict(method_SVM)"
   ]
  }
 ],
 "metadata": {
  "kernelspec": {
   "display_name": "Python 3.8.8 ('base')",
   "language": "python",
   "name": "python3"
  },
  "language_info": {
   "codemirror_mode": {
    "name": "ipython",
    "version": 3
   },
   "file_extension": ".py",
   "mimetype": "text/x-python",
   "name": "python",
   "nbconvert_exporter": "python",
   "pygments_lexer": "ipython3",
   "version": "3.8.8"
  },
  "orig_nbformat": 4,
  "vscode": {
   "interpreter": {
    "hash": "3b6c1224657c578b9d3e2b49ca831d7f85bea0417468944a724420177cb04cf0"
   }
  }
 },
 "nbformat": 4,
 "nbformat_minor": 2
}
