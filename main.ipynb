{
 "cells": [
  {
   "cell_type": "code",
   "execution_count": 31,
   "metadata": {},
   "outputs": [],
   "source": [
    "import cv2\n",
    "import numpy as np\n",
    "from loaddata import loaddata\n",
    "from sklearn import svm\n",
    "from sklearn.metrics import classification_report"
   ]
  },
  {
   "cell_type": "code",
   "execution_count": 2,
   "metadata": {},
   "outputs": [],
   "source": [
    "x_train, x_test, y_train, y_test = loaddata('2', '2', '3', train_size=0.8)"
   ]
  },
  {
   "cell_type": "markdown",
   "metadata": {},
   "source": [
    "---\n",
    "### HOG"
   ]
  },
  {
   "cell_type": "code",
   "execution_count": 28,
   "metadata": {},
   "outputs": [],
   "source": [
    "winSize = (160, 160) \n",
    "blockSize = (80, 80)\n",
    "blockStride = (40, 40)\n",
    "cellSize = (80, 80)\n",
    "Bin = 9 \n",
    "hog = cv2.HOGDescriptor(winSize, blockSize, blockStride, cellSize, Bin)\n",
    "HOG = lambda img: hog.compute(img).flatten()\n",
    "\n",
    "train_HOG = np.array([HOG(img) for img in x_train])\n",
    "\n",
    "SVM = svm.SVC(kernel = 'linear')\n",
    "SVM.fit(train_HOG, y_train)\n",
    "del train_HOG"
   ]
  },
  {
   "cell_type": "code",
   "execution_count": 29,
   "metadata": {},
   "outputs": [],
   "source": [
    "test_HOG = np.array([HOG(img) for img in x_test])\n",
    "y_predict = SVM.predict(test_HOG)"
   ]
  },
  {
   "cell_type": "code",
   "execution_count": 32,
   "metadata": {},
   "outputs": [
    {
     "name": "stdout",
     "output_type": "stream",
     "text": [
      "              precision    recall  f1-score   support\n",
      "\n",
      "           0       0.93      0.93      0.93       156\n",
      "           1       0.92      0.96      0.94        68\n",
      "           2       0.90      0.80      0.85        35\n",
      "           3       1.00      0.97      0.98        29\n",
      "           4       0.89      0.94      0.91        33\n",
      "\n",
      "    accuracy                           0.93       321\n",
      "   macro avg       0.93      0.92      0.92       321\n",
      "weighted avg       0.93      0.93      0.92       321\n",
      "\n"
     ]
    }
   ],
   "source": [
    "print(classification_report(y_test, y_predict))"
   ]
  }
 ],
 "metadata": {
  "kernelspec": {
   "display_name": "Python 3.8.8 ('base')",
   "language": "python",
   "name": "python3"
  },
  "language_info": {
   "codemirror_mode": {
    "name": "ipython",
    "version": 3
   },
   "file_extension": ".py",
   "mimetype": "text/x-python",
   "name": "python",
   "nbconvert_exporter": "python",
   "pygments_lexer": "ipython3",
   "version": "3.8.8"
  },
  "orig_nbformat": 4,
  "vscode": {
   "interpreter": {
    "hash": "3b6c1224657c578b9d3e2b49ca831d7f85bea0417468944a724420177cb04cf0"
   }
  }
 },
 "nbformat": 4,
 "nbformat_minor": 2
}
